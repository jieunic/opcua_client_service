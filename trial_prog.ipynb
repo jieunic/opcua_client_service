{
 "cells": [
  {
   "cell_type": "code",
   "execution_count": 4,
   "metadata": {},
   "outputs": [],
   "source": [
    "import os, time, pymssql\n",
    "from dotenv import load_dotenv\n",
    "from openpyxl import load_workbook\n",
    "from datetime import datetime, date"
   ]
  },
  {
   "cell_type": "code",
   "execution_count": 5,
   "metadata": {},
   "outputs": [
    {
     "name": "stdout",
     "output_type": "stream",
     "text": [
      "nxservice/bin\n"
     ]
    }
   ],
   "source": [
    "load_dotenv(\"nxservice/setup.env\")\n",
    "data_node = os.getenv(\"OUTPUT_FOLDER\")\n",
    "nodes = []\n",
    "print(data_node)"
   ]
  },
  {
   "cell_type": "code",
   "execution_count": 6,
   "metadata": {},
   "outputs": [],
   "source": [
    "files = [file for file in os.listdir(data_node) if file.startswith(\"data_nodeid\") and file.endswith(\".xlsx\")]\n",
    "\n",
    "if len(files) > 0:\n",
    "    file = files[0]\n",
    "    workbook = load_workbook(os.path.join(data_node, file))\n",
    "    sheet = workbook.active\n",
    "    for row in sheet.iter_rows(min_row=2, values_only=True):\n",
    "        if len(row) >= 5:\n",
    "            nodeId = row[4]  \n",
    "            node = str(nodeId)\n",
    "            nodes.append(node)\n",
    "        else:\n",
    "            print(f\"Row does not have enough columns: {row}\")\n",
    "else:\n",
    "    print('Data file does not exist...')"
   ]
  },
  {
   "cell_type": "code",
   "execution_count": 7,
   "metadata": {},
   "outputs": [
    {
     "name": "stdout",
     "output_type": "stream",
     "text": [
      "['ns=2;s=1P.400943310101025155-045-061-5299']\n"
     ]
    }
   ],
   "source": [
    "print(nodes)"
   ]
  },
  {
   "cell_type": "code",
   "execution_count": 2,
   "metadata": {},
   "outputs": [
    {
     "ename": "RuntimeError",
     "evalue": "asyncio.run() cannot be called from a running event loop",
     "output_type": "error",
     "traceback": [
      "\u001b[1;31m---------------------------------------------------------------------------\u001b[0m",
      "\u001b[1;31mRuntimeError\u001b[0m                              Traceback (most recent call last)",
      "Cell \u001b[1;32mIn[2], line 31\u001b[0m\n\u001b[0;32m     27\u001b[0m   \u001b[38;5;28mprint\u001b[39m(\u001b[38;5;124mf\u001b[39m\u001b[38;5;124m\"\u001b[39m\u001b[38;5;124mHasil: \u001b[39m\u001b[38;5;132;01m{\u001b[39;00mhasil\u001b[38;5;132;01m}\u001b[39;00m\u001b[38;5;124m\"\u001b[39m)\n\u001b[0;32m     29\u001b[0m \u001b[38;5;28;01mif\u001b[39;00m \u001b[38;5;18m__name__\u001b[39m \u001b[38;5;241m==\u001b[39m \u001b[38;5;124m\"\u001b[39m\u001b[38;5;124m__main__\u001b[39m\u001b[38;5;124m\"\u001b[39m:\n\u001b[0;32m     30\u001b[0m   \u001b[38;5;66;03m# Menjalankan fungsi utama dengan event loop\u001b[39;00m\n\u001b[1;32m---> 31\u001b[0m   \u001b[43masyncio\u001b[49m\u001b[38;5;241;43m.\u001b[39;49m\u001b[43mrun\u001b[49m\u001b[43m(\u001b[49m\u001b[43mmain\u001b[49m\u001b[43m(\u001b[49m\u001b[43m)\u001b[49m\u001b[43m)\u001b[49m\n",
      "File \u001b[1;32mc:\\Users\\ASUS\\AppData\\Local\\Programs\\Python\\Python312\\Lib\\asyncio\\runners.py:190\u001b[0m, in \u001b[0;36mrun\u001b[1;34m(main, debug, loop_factory)\u001b[0m\n\u001b[0;32m    161\u001b[0m \u001b[38;5;250m\u001b[39m\u001b[38;5;124;03m\"\"\"Execute the coroutine and return the result.\u001b[39;00m\n\u001b[0;32m    162\u001b[0m \n\u001b[0;32m    163\u001b[0m \u001b[38;5;124;03mThis function runs the passed coroutine, taking care of\u001b[39;00m\n\u001b[1;32m   (...)\u001b[0m\n\u001b[0;32m    186\u001b[0m \u001b[38;5;124;03m    asyncio.run(main())\u001b[39;00m\n\u001b[0;32m    187\u001b[0m \u001b[38;5;124;03m\"\"\"\u001b[39;00m\n\u001b[0;32m    188\u001b[0m \u001b[38;5;28;01mif\u001b[39;00m events\u001b[38;5;241m.\u001b[39m_get_running_loop() \u001b[38;5;129;01mis\u001b[39;00m \u001b[38;5;129;01mnot\u001b[39;00m \u001b[38;5;28;01mNone\u001b[39;00m:\n\u001b[0;32m    189\u001b[0m     \u001b[38;5;66;03m# fail fast with short traceback\u001b[39;00m\n\u001b[1;32m--> 190\u001b[0m     \u001b[38;5;28;01mraise\u001b[39;00m \u001b[38;5;167;01mRuntimeError\u001b[39;00m(\n\u001b[0;32m    191\u001b[0m         \u001b[38;5;124m\"\u001b[39m\u001b[38;5;124masyncio.run() cannot be called from a running event loop\u001b[39m\u001b[38;5;124m\"\u001b[39m)\n\u001b[0;32m    193\u001b[0m \u001b[38;5;28;01mwith\u001b[39;00m Runner(debug\u001b[38;5;241m=\u001b[39mdebug, loop_factory\u001b[38;5;241m=\u001b[39mloop_factory) \u001b[38;5;28;01mas\u001b[39;00m runner:\n\u001b[0;32m    194\u001b[0m     \u001b[38;5;28;01mreturn\u001b[39;00m runner\u001b[38;5;241m.\u001b[39mrun(main)\n",
      "\u001b[1;31mRuntimeError\u001b[0m: asyncio.run() cannot be called from a running event loop"
     ]
    }
   ],
   "source": [
    "import asyncio\n",
    "\n",
    "async def get_data_from_api1():\n",
    "  \"\"\"Mensimulasikan pengambilan data dari API 1\"\"\"\n",
    "  await asyncio.sleep(2)  # Mensimulasikan penundaan 2 detik\n",
    "  return {\"data1\": \"dari API 1\"}\n",
    "\n",
    "async def get_data_from_api2():\n",
    "  \"\"\"Mensimulasikan pengambilan data dari API 2\"\"\"\n",
    "  await asyncio.sleep(1)  # Mensimulasikan penundaan 1 detik\n",
    "  return {\"data2\": \"dari API 2\"}\n",
    "\n",
    "async def main():\n",
    "  \"\"\"Fungsi utama untuk menjalankan kode asynchronous\"\"\"\n",
    "  # Menjalankan fungsi `get_data_from_api1` dan `get_data_from_api2` secara bersamaan\n",
    "  data1_task = asyncio.create_task(get_data_from_api1())\n",
    "  data2_task = asyncio.create_task(get_data_from_api2())\n",
    "\n",
    "  # Menunggu hasil dari kedua task\n",
    "  data1 = await data1_task\n",
    "  data2 = await data2_task\n",
    "\n",
    "  # Menggabungkan data dari kedua API\n",
    "  hasil = {\"data\": data1 | data2}\n",
    "\n",
    "  # Menampilkan hasil\n",
    "  print(f\"Hasil: {hasil}\")\n",
    "\n",
    "if __name__ == \"__main__\":\n",
    "  # Menjalankan fungsi utama dengan event loop\n",
    "  asyncio.run(main())\n"
   ]
  }
 ],
 "metadata": {
  "kernelspec": {
   "display_name": "Python 3",
   "language": "python",
   "name": "python3"
  },
  "language_info": {
   "codemirror_mode": {
    "name": "ipython",
    "version": 3
   },
   "file_extension": ".py",
   "mimetype": "text/x-python",
   "name": "python",
   "nbconvert_exporter": "python",
   "pygments_lexer": "ipython3",
   "version": "3.12.1"
  }
 },
 "nbformat": 4,
 "nbformat_minor": 2
}
